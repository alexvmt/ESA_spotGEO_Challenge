{
  "nbformat": 4,
  "nbformat_minor": 0,
  "metadata": {
    "colab": {
      "name": "spotGEO_detection_2561_5120.ipynb",
      "provenance": [],
      "collapsed_sections": []
    },
    "kernelspec": {
      "name": "python3",
      "display_name": "Python 3"
    }
  },
  "cells": [
    {
      "cell_type": "code",
      "metadata": {
        "id": "MtoEMvOJMFmm",
        "colab_type": "code",
        "colab": {}
      },
      "source": [
        "import random\n",
        "random.seed(42)"
      ],
      "execution_count": null,
      "outputs": []
    },
    {
      "cell_type": "code",
      "metadata": {
        "id": "eZsjcmhZN_LJ",
        "colab_type": "code",
        "colab": {}
      },
      "source": [
        "!mkdir spotGEO"
      ],
      "execution_count": null,
      "outputs": []
    },
    {
      "cell_type": "code",
      "metadata": {
        "id": "f0I0g91MN_Iw",
        "colab_type": "code",
        "colab": {}
      },
      "source": [
        "!mkdir spotGEO/test"
      ],
      "execution_count": null,
      "outputs": []
    },
    {
      "cell_type": "code",
      "metadata": {
        "id": "bZiuw_5iN_GN",
        "colab_type": "code",
        "colab": {}
      },
      "source": [
        "!mkdir spotGEO/test/images"
      ],
      "execution_count": null,
      "outputs": []
    },
    {
      "cell_type": "code",
      "metadata": {
        "id": "LveOB_I4N_D3",
        "colab_type": "code",
        "colab": {}
      },
      "source": [
        "!mkdir spotGEO/test/detections"
      ],
      "execution_count": null,
      "outputs": []
    },
    {
      "cell_type": "code",
      "metadata": {
        "id": "IuezDYJaOVk_",
        "colab_type": "code",
        "colab": {}
      },
      "source": [
        "!mkdir spotGEO/data"
      ],
      "execution_count": null,
      "outputs": []
    },
    {
      "cell_type": "code",
      "metadata": {
        "id": "2PIHVrYI1pTZ",
        "colab_type": "code",
        "colab": {}
      },
      "source": [
        "from google.colab import drive\n",
        "drive.mount('/content/drive')"
      ],
      "execution_count": null,
      "outputs": []
    },
    {
      "cell_type": "code",
      "metadata": {
        "id": "FcUGCNsEOPI5",
        "colab_type": "code",
        "colab": {}
      },
      "source": [
        "!unzip '/content/drive/My Drive/spotGEO/test.zip' -d '/content/spotGEO/data/'"
      ],
      "execution_count": null,
      "outputs": []
    },
    {
      "cell_type": "code",
      "metadata": {
        "id": "ZnMvfKjWN3Ai",
        "colab_type": "code",
        "colab": {}
      },
      "source": [
        "from PIL import Image"
      ],
      "execution_count": null,
      "outputs": []
    },
    {
      "cell_type": "code",
      "metadata": {
        "id": "13LvTsGFOjUZ",
        "colab_type": "code",
        "colab": {}
      },
      "source": [
        "def copy_test_images(read_path, write_path, start_seq_id, end_seq_id):\n",
        "  for seq_id in range(start_seq_id,end_seq_id+1):\n",
        "    for frm_id in range(1,6):\n",
        "        im = Image.open(read_path+str(seq_id)+'/'+str(frm_id)+'.png')\n",
        "        rgb_im = im.convert('RGB')\n",
        "        rgb_im.save(write_path+'seq_'+str(seq_id)+'_frm_'+str(frm_id)+'.jpg')"
      ],
      "execution_count": null,
      "outputs": []
    },
    {
      "cell_type": "code",
      "metadata": {
        "id": "UZkfA1cpOk3v",
        "colab_type": "code",
        "colab": {}
      },
      "source": [
        "%%time\n",
        "\n",
        "copy_test_images('/content/spotGEO/data/test/', '/content/spotGEO/test/images/', 2561, 5120)"
      ],
      "execution_count": null,
      "outputs": []
    },
    {
      "cell_type": "code",
      "metadata": {
        "id": "w6-yFwxwL1qZ",
        "colab_type": "code",
        "colab": {}
      },
      "source": [
        "!pip3 install tensorflow-gpu==1.13.1"
      ],
      "execution_count": null,
      "outputs": []
    },
    {
      "cell_type": "code",
      "metadata": {
        "id": "N6w9IzF_L9MG",
        "colab_type": "code",
        "colab": {}
      },
      "source": [
        "!pip3 install keras==2.2.4"
      ],
      "execution_count": null,
      "outputs": []
    },
    {
      "cell_type": "code",
      "metadata": {
        "id": "NWT1nn1OL-vo",
        "colab_type": "code",
        "colab": {}
      },
      "source": [
        "!pip3 install numpy==1.16.1"
      ],
      "execution_count": null,
      "outputs": []
    },
    {
      "cell_type": "code",
      "metadata": {
        "id": "YbyklJTLMAXh",
        "colab_type": "code",
        "colab": {}
      },
      "source": [
        "!pip3 install imageai --upgrade"
      ],
      "execution_count": null,
      "outputs": []
    },
    {
      "cell_type": "code",
      "metadata": {
        "id": "zLHm_tWmMCqF",
        "colab_type": "code",
        "colab": {}
      },
      "source": [
        "%tensorflow_version 1.x"
      ],
      "execution_count": null,
      "outputs": []
    },
    {
      "cell_type": "code",
      "metadata": {
        "id": "FXBsPDgNMGg9",
        "colab_type": "code",
        "colab": {}
      },
      "source": [
        "%%time\n",
        "\n",
        "from imageai.Detection.Custom import CustomObjectDetection\n",
        "\n",
        "detector = CustomObjectDetection()\n",
        "detector.setModelTypeAsYOLOv3()\n",
        "detector.setModelPath('/content/drive/My Drive/spotGEO/detection_model-ex-019--loss-0015.354.h5') \n",
        "detector.setJsonPath('/content/drive/My Drive/spotGEO/detection_config.json')\n",
        "detector.loadModel()"
      ],
      "execution_count": null,
      "outputs": []
    },
    {
      "cell_type": "code",
      "metadata": {
        "id": "rmTXmWPmQq-P",
        "colab_type": "code",
        "colab": {}
      },
      "source": [
        "%%time\n",
        "\n",
        "detections = detector.detectObjectsFromImage(input_image='spotGEO/test/images/seq_2561_frm_1.jpg', output_image_path='spotGEO/test/detections/test.jpg', minimum_percentage_probability=10)\n",
        "for detection in detections:\n",
        "    print(detection['name'], ' : ', detection['percentage_probability'], ' : ', detection['box_points'])"
      ],
      "execution_count": null,
      "outputs": []
    },
    {
      "cell_type": "code",
      "metadata": {
        "id": "kq6WudziPJNl",
        "colab_type": "code",
        "colab": {}
      },
      "source": [
        "len(detections)"
      ],
      "execution_count": null,
      "outputs": []
    },
    {
      "cell_type": "code",
      "metadata": {
        "id": "dVDH879wPKwn",
        "colab_type": "code",
        "colab": {}
      },
      "source": [
        "detections[0]"
      ],
      "execution_count": null,
      "outputs": []
    },
    {
      "cell_type": "code",
      "metadata": {
        "id": "0uOIatBV7Boe",
        "colab_type": "code",
        "colab": {}
      },
      "source": [
        "import json"
      ],
      "execution_count": null,
      "outputs": []
    },
    {
      "cell_type": "code",
      "metadata": {
        "id": "itUJc40IgvTJ",
        "colab_type": "code",
        "colab": {}
      },
      "source": [
        "%%time\n",
        "\n",
        "submission = []\n",
        "\n",
        "for seq_id in range(2561,5121):\n",
        "  for frm_id in range(1,6):\n",
        "\n",
        "    detections = detector.detectObjectsFromImage(input_image='spotGEO/test/images/seq_'+str(seq_id)+'_frm_'+str(frm_id)+'.jpg', output_image_path='spotGEO/test/detections/test.jpg', minimum_percentage_probability=10)\n",
        "\n",
        "    detections = sorted(detections, key=lambda k: k['percentage_probability'], reverse=True)[:30]\n",
        "\n",
        "    object_coords = []\n",
        "\n",
        "    for i in range(0,len(detections)):\n",
        "\n",
        "      coords = []\n",
        "\n",
        "      xmin = detections[i]['box_points'][0]\n",
        "      xmax = detections[i]['box_points'][2]\n",
        "      ymin = detections[i]['box_points'][1]\n",
        "      ymax = detections[i]['box_points'][3]\n",
        "\n",
        "      x = (xmin + xmax) / 2\n",
        "      y = (ymin + ymax) / 2\n",
        "\n",
        "      coords.extend([x, y])\n",
        "\n",
        "      object_coords.append(coords)\n",
        "\n",
        "    submission.append({'sequence_id' : seq_id,\n",
        "                       'frame' : frm_id,\n",
        "                       'num_objects' : len(object_coords),\n",
        "                       'object_coords' : object_coords})\n",
        "\n",
        "with open('spotGEO/test/detections/my_submission_2561_5120.json', 'w') as outfile:\n",
        "    json.dump(submission, outfile)"
      ],
      "execution_count": null,
      "outputs": []
    },
    {
      "cell_type": "code",
      "metadata": {
        "id": "2GJFwSQPvCM1",
        "colab_type": "code",
        "colab": {}
      },
      "source": [
        "!cp 'spotGEO/test/detections/my_submission_2561_5120.json' -d '/content/drive/My Drive/spotGEO/'"
      ],
      "execution_count": null,
      "outputs": []
    }
  ]
}