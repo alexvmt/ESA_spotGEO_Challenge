{
  "nbformat": 4,
  "nbformat_minor": 0,
  "metadata": {
    "colab": {
      "name": "spotGEO_training.ipynb",
      "provenance": [],
      "collapsed_sections": []
    },
    "kernelspec": {
      "name": "python3",
      "display_name": "Python 3"
    },
    "accelerator": "GPU"
  },
  "cells": [
    {
      "cell_type": "code",
      "metadata": {
        "id": "4lgR95DpIAAu",
        "colab_type": "code",
        "colab": {}
      },
      "source": [
        "import random\n",
        "random.seed(42)"
      ],
      "execution_count": null,
      "outputs": []
    },
    {
      "cell_type": "code",
      "metadata": {
        "id": "ccIfqIa5L86a",
        "colab_type": "code",
        "colab": {}
      },
      "source": [
        "!mkdir spotGEO"
      ],
      "execution_count": null,
      "outputs": []
    },
    {
      "cell_type": "code",
      "metadata": {
        "id": "-H5GweTPMADJ",
        "colab_type": "code",
        "colab": {}
      },
      "source": [
        "!mkdir spotGEO/train"
      ],
      "execution_count": null,
      "outputs": []
    },
    {
      "cell_type": "code",
      "metadata": {
        "id": "ZjxPsvvEMFJF",
        "colab_type": "code",
        "colab": {}
      },
      "source": [
        "!mkdir spotGEO/train/images"
      ],
      "execution_count": null,
      "outputs": []
    },
    {
      "cell_type": "code",
      "metadata": {
        "id": "yguA_7W_MNbs",
        "colab_type": "code",
        "colab": {}
      },
      "source": [
        "!mkdir spotGEO/train/annotations"
      ],
      "execution_count": null,
      "outputs": []
    },
    {
      "cell_type": "code",
      "metadata": {
        "id": "pmSZoR6FMZUl",
        "colab_type": "code",
        "colab": {}
      },
      "source": [
        "!mkdir spotGEO/validation"
      ],
      "execution_count": null,
      "outputs": []
    },
    {
      "cell_type": "code",
      "metadata": {
        "id": "Z2UkX2wwMeKb",
        "colab_type": "code",
        "colab": {}
      },
      "source": [
        "!mkdir spotGEO/validation/images"
      ],
      "execution_count": null,
      "outputs": []
    },
    {
      "cell_type": "code",
      "metadata": {
        "id": "bZPa-aIwMhqU",
        "colab_type": "code",
        "colab": {}
      },
      "source": [
        "!mkdir spotGEO/validation/annotations"
      ],
      "execution_count": null,
      "outputs": []
    },
    {
      "cell_type": "code",
      "metadata": {
        "id": "mhRdhzlmvFat",
        "colab_type": "code",
        "colab": {}
      },
      "source": [
        "!mkdir spotGEO/data"
      ],
      "execution_count": null,
      "outputs": []
    },
    {
      "cell_type": "code",
      "metadata": {
        "id": "Qbs_z2CHncxW",
        "colab_type": "code",
        "colab": {}
      },
      "source": [
        "from google.colab import drive\n",
        "drive.mount('/content/drive')"
      ],
      "execution_count": null,
      "outputs": []
    },
    {
      "cell_type": "code",
      "metadata": {
        "id": "hu-k0iX3tpyZ",
        "colab_type": "code",
        "colab": {}
      },
      "source": [
        "!unzip '/content/drive/My Drive/spotGEO/train.zip' -d '/content/spotGEO/data/'"
      ],
      "execution_count": null,
      "outputs": []
    },
    {
      "cell_type": "code",
      "metadata": {
        "id": "g1kdq8RDOIN6",
        "colab_type": "code",
        "colab": {}
      },
      "source": [
        "import json"
      ],
      "execution_count": null,
      "outputs": []
    },
    {
      "cell_type": "code",
      "metadata": {
        "id": "EwTDPURUHwh6",
        "colab_type": "code",
        "colab": {}
      },
      "source": [
        "with open('/content/drive/My Drive/spotGEO/train_anno.json') as annotations:\n",
        "        annotations = json.load(annotations)"
      ],
      "execution_count": null,
      "outputs": []
    },
    {
      "cell_type": "code",
      "metadata": {
        "id": "RclfZJOiHwYU",
        "colab_type": "code",
        "colab": {}
      },
      "source": [
        "from lxml import etree"
      ],
      "execution_count": null,
      "outputs": []
    },
    {
      "cell_type": "code",
      "metadata": {
        "id": "dDprZnGanwTw",
        "colab_type": "code",
        "colab": {}
      },
      "source": [
        "def make_annotations(write_path, start_seq_id, end_seq_id, radius):\n",
        "  for seq_id in range(start_seq_id,end_seq_id+1):\n",
        "    if (seq_id % 2) == 0:\n",
        "      for frm_id in range (1,6):\n",
        "        if (frm_id % 2) != 0:\n",
        "\n",
        "            filename_ = 'seq_'+str(seq_id)+'_frm_'+str(frm_id)+'.jpg'\n",
        "            path_ = write_path\n",
        "\n",
        "            annotation = etree.Element('annotation')\n",
        "            folder = etree.SubElement(annotation, 'folder')\n",
        "            folder.text = 'images'\n",
        "            filename = etree.SubElement(annotation, 'filename')\n",
        "            filename.text = filename_\n",
        "            path = etree.SubElement(annotation, 'path')\n",
        "            path.text = path_+filename_\n",
        "            source = etree.SubElement(annotation, 'source')\n",
        "            database = etree.SubElement(source, 'database')\n",
        "            database.text = 'Unknown'\n",
        "            size = etree.SubElement(annotation, 'size')\n",
        "            width = etree.SubElement(size, 'width')\n",
        "            width.text = '640'\n",
        "            height = etree.SubElement(size, 'height')\n",
        "            height.text = '480'\n",
        "            depth = etree.SubElement(size, 'depth')\n",
        "            depth.text = '1'\n",
        "            segmented = etree.SubElement(annotation, 'segmented')\n",
        "            segmented.text = '0'\n",
        "\n",
        "            if annotations[seq_id-1]['num_objects'] == 0:\n",
        "              pass\n",
        "\n",
        "            else:\n",
        "              for i in range(0,len(annotations[seq_id-1]['object_coords'])):\n",
        "                object = etree.SubElement(annotation, 'object')\n",
        "                name = etree.SubElement(object, 'name')\n",
        "                name.text = 'satellite'\n",
        "                pose = etree.SubElement(object, 'pose')\n",
        "                pose.text = 'Unspecified'\n",
        "                truncated = etree.SubElement(object, 'truncated')\n",
        "                truncated.text = '0'\n",
        "                difficult = etree.SubElement(object, 'difficult')\n",
        "                difficult.text = '1'\n",
        "                bndbox = etree.SubElement(object, 'bndbox')\n",
        "                xmin = etree.SubElement(bndbox, 'xmin')\n",
        "                xmin.text = str(int(annotations[seq_id-1]['object_coords'][i][0] + .5) - radius)\n",
        "                ymin = etree.SubElement(bndbox, 'ymin')\n",
        "                ymin.text = str(int(annotations[seq_id-1]['object_coords'][i][1] + .5) - radius)\n",
        "                xmax = etree.SubElement(bndbox, 'xmax')\n",
        "                xmax.text = str(int(annotations[seq_id-1]['object_coords'][i][0] + .5) + radius + 1)\n",
        "                ymax = etree.SubElement(bndbox, 'ymax')\n",
        "                ymax.text = str(int(annotations[seq_id-1]['object_coords'][i][1] + .5) + radius + 1)\n",
        "\n",
        "                et = etree.ElementTree(annotation)\n",
        "                et.write(path_+filename_[:-3]+'xml', pretty_print=True)\n",
        "\n",
        "        else: pass\n",
        "    else: pass"
      ],
      "execution_count": null,
      "outputs": []
    },
    {
      "cell_type": "code",
      "metadata": {
        "id": "fiyFk5M-9dT0",
        "colab_type": "code",
        "colab": {}
      },
      "source": [
        "%%time\n",
        "\n",
        "make_annotations('/content/spotGEO/train/annotations/', 1, 1000, 3)"
      ],
      "execution_count": null,
      "outputs": []
    },
    {
      "cell_type": "code",
      "metadata": {
        "id": "D2AJD66pzrZX",
        "colab_type": "code",
        "colab": {}
      },
      "source": [
        "%%time\n",
        "\n",
        "make_annotations('/content/spotGEO/validation/annotations/', 1001, 1280, 3)"
      ],
      "execution_count": null,
      "outputs": []
    },
    {
      "cell_type": "code",
      "metadata": {
        "id": "EMrt61pHNOQZ",
        "colab_type": "code",
        "colab": {}
      },
      "source": [
        "from os import listdir\n",
        "from os.path import isfile, join"
      ],
      "execution_count": null,
      "outputs": []
    },
    {
      "cell_type": "code",
      "metadata": {
        "id": "gYyc6Y7DI0WD",
        "colab_type": "code",
        "colab": {}
      },
      "source": [
        "images_with_satellites_train = [f for f in listdir('/content/spotGEO/train/annotations/') if isfile(join('/content/spotGEO/train/annotations/', f))]\n",
        "len(images_with_satellites_train)"
      ],
      "execution_count": null,
      "outputs": []
    },
    {
      "cell_type": "code",
      "metadata": {
        "id": "kadfyitoI3Rm",
        "colab_type": "code",
        "colab": {}
      },
      "source": [
        "images_with_satellites_validation = [f for f in listdir('/content/spotGEO/validation/annotations/') if isfile(join('/content/spotGEO/validation/annotations/', f))]\n",
        "len(images_with_satellites_validation)"
      ],
      "execution_count": null,
      "outputs": []
    },
    {
      "cell_type": "code",
      "metadata": {
        "id": "j_l1VAH3J4x2",
        "colab_type": "code",
        "colab": {}
      },
      "source": [
        "images_with_satellites = images_with_satellites_train + images_with_satellites_validation"
      ],
      "execution_count": null,
      "outputs": []
    },
    {
      "cell_type": "code",
      "metadata": {
        "id": "OrI67pPnHwsN",
        "colab_type": "code",
        "colab": {}
      },
      "source": [
        "from PIL import Image"
      ],
      "execution_count": null,
      "outputs": []
    },
    {
      "cell_type": "code",
      "metadata": {
        "id": "l8s57j2tyDKN",
        "colab_type": "code",
        "colab": {}
      },
      "source": [
        "def copy_train_images(read_path, write_path, start_seq_id, end_seq_id):\n",
        "  for seq_id in range(start_seq_id,end_seq_id+1):\n",
        "    for frm_id in range(1,6):\n",
        "      if 'seq_'+str(seq_id)+'_frm_'+str(frm_id)+'.xml' in images_with_satellites:\n",
        "        im = Image.open(read_path+str(seq_id)+'/'+str(frm_id)+'.png')\n",
        "        im.save(write_path+'seq_'+str(seq_id)+'_frm_'+str(frm_id)+'.jpg')\n",
        "      else:\n",
        "        pass"
      ],
      "execution_count": null,
      "outputs": []
    },
    {
      "cell_type": "code",
      "metadata": {
        "id": "O9MxcVwSygYv",
        "colab_type": "code",
        "colab": {}
      },
      "source": [
        "%%time\n",
        "\n",
        "copy_train_images('/content/spotGEO/data/train/', '/content/spotGEO/train/images/', 1, 1000)"
      ],
      "execution_count": null,
      "outputs": []
    },
    {
      "cell_type": "code",
      "metadata": {
        "id": "5_etR9oaK3pU",
        "colab_type": "code",
        "colab": {}
      },
      "source": [
        "train_images = [f for f in listdir('/content/spotGEO/train/images/') if isfile(join('/content/spotGEO/train/images/', f))]\n",
        "len(train_images)"
      ],
      "execution_count": null,
      "outputs": []
    },
    {
      "cell_type": "code",
      "metadata": {
        "id": "rE0j42jxyxnv",
        "colab_type": "code",
        "colab": {}
      },
      "source": [
        "%%time\n",
        "\n",
        "copy_train_images('/content/spotGEO/data/train/', '/content/spotGEO/validation/images/', 1001, 1280)"
      ],
      "execution_count": null,
      "outputs": []
    },
    {
      "cell_type": "code",
      "metadata": {
        "id": "XAXLywM7K4id",
        "colab_type": "code",
        "colab": {}
      },
      "source": [
        "validation_images = [f for f in listdir('/content/spotGEO/validation/images/') if isfile(join('/content/spotGEO/validation/images/', f))]\n",
        "len(validation_images)"
      ],
      "execution_count": null,
      "outputs": []
    },
    {
      "cell_type": "code",
      "metadata": {
        "id": "LWUsvyykTJVV",
        "colab_type": "code",
        "colab": {}
      },
      "source": [
        "!pip3 install tensorflow-gpu==1.13.1"
      ],
      "execution_count": null,
      "outputs": []
    },
    {
      "cell_type": "code",
      "metadata": {
        "id": "Zn15rJOp4pPv",
        "colab_type": "code",
        "colab": {}
      },
      "source": [
        "!pip3 install keras==2.2.4"
      ],
      "execution_count": null,
      "outputs": []
    },
    {
      "cell_type": "code",
      "metadata": {
        "id": "6JER_WvQ4r6b",
        "colab_type": "code",
        "colab": {}
      },
      "source": [
        "!pip3 install numpy==1.16.1"
      ],
      "execution_count": null,
      "outputs": []
    },
    {
      "cell_type": "code",
      "metadata": {
        "id": "qemp48mR4twC",
        "colab_type": "code",
        "colab": {}
      },
      "source": [
        "!pip3 install imageai --upgrade"
      ],
      "execution_count": null,
      "outputs": []
    },
    {
      "cell_type": "code",
      "metadata": {
        "id": "IAfOMLoT7qeJ",
        "colab_type": "code",
        "colab": {}
      },
      "source": [
        "!wget https://github.com/OlafenwaMoses/ImageAI/releases/download/essential-v4/pretrained-yolov3.h5"
      ],
      "execution_count": null,
      "outputs": []
    },
    {
      "cell_type": "code",
      "metadata": {
        "id": "HopgdKH1Pq-w",
        "colab_type": "code",
        "colab": {}
      },
      "source": [
        "%tensorflow_version 1.x"
      ],
      "execution_count": null,
      "outputs": []
    },
    {
      "cell_type": "code",
      "metadata": {
        "id": "95rBraIS7yWY",
        "colab_type": "code",
        "colab": {}
      },
      "source": [
        "%%time\n",
        "\n",
        "from imageai.Detection.Custom import DetectionModelTrainer\n",
        "\n",
        "trainer = DetectionModelTrainer()\n",
        "trainer.setModelTypeAsYOLOv3()\n",
        "trainer.setDataDirectory(data_directory='spotGEO')\n",
        "trainer.setTrainConfig(object_names_array=['satellite'], batch_size=8, num_experiments=5, train_from_pretrained_model='pretrained-yolov3.h5')\n",
        "trainer.trainModel()"
      ],
      "execution_count": null,
      "outputs": []
    },
    {
      "cell_type": "code",
      "metadata": {
        "id": "elaWCZEIviof",
        "colab_type": "code",
        "colab": {}
      },
      "source": [
        "!cp 'spotGE+O/json/detection_config.json' -d '/content/drive/My Drive/spotGEO/'"
      ],
      "execution_count": null,
      "outputs": []
    },
    {
      "cell_type": "code",
      "metadata": {
        "id": "_QKz28YsSX4v",
        "colab_type": "code",
        "colab": {}
      },
      "source": [
        "from os import listdir\n",
        "from os.path import isfile, join\n",
        "\n",
        "model_path = 'spotGEO/models/'\n",
        "onlyfiles = [f for f in listdir(model_path) if isfile(join(model_path, f))]\n",
        "final_model = model_path+sorted(onlyfiles)[-1]"
      ],
      "execution_count": null,
      "outputs": []
    },
    {
      "cell_type": "code",
      "metadata": {
        "id": "QZJub-W0WRfl",
        "colab_type": "code",
        "colab": {}
      },
      "source": [
        "!cp $final_model -d '/content/drive/My Drive/spotGEO/'"
      ],
      "execution_count": null,
      "outputs": []
    },
    {
      "cell_type": "code",
      "metadata": {
        "id": "mZmjIneEXMwL",
        "colab_type": "code",
        "colab": {}
      },
      "source": [
        "%%time\n",
        "\n",
        "from imageai.Detection.Custom import DetectionModelTrainer\n",
        "\n",
        "trainer = DetectionModelTrainer()\n",
        "trainer.setModelTypeAsYOLOv3()\n",
        "trainer.setDataDirectory(data_directory='spotGEO')\n",
        "trainer.evaluateModel(model_path='spotGEO/models', json_path='spotGEO/json/detection_config.json', iou_threshold=0.4, object_threshold=0.3, nms_threshold=0.5)"
      ],
      "execution_count": null,
      "outputs": []
    },
    {
      "cell_type": "code",
      "metadata": {
        "id": "f7-SCkYBk7Th",
        "colab_type": "code",
        "colab": {}
      },
      "source": [
        "%%time\n",
        "\n",
        "from imageai.Detection.Custom import DetectionModelTrainer\n",
        "\n",
        "trainer = DetectionModelTrainer()\n",
        "trainer.setModelTypeAsYOLOv3()\n",
        "trainer.setDataDirectory(data_directory='spotGEO')\n",
        "trainer.evaluateModel(model_path='spotGEO/models', json_path='spotGEO/json/detection_config.json', iou_threshold=0.1, object_threshold=0.1, nms_threshold=0.1)"
      ],
      "execution_count": null,
      "outputs": []
    },
    {
      "cell_type": "code",
      "metadata": {
        "id": "do4VQX6tVmGT",
        "colab_type": "code",
        "colab": {}
      },
      "source": [
        "%%time\n",
        "\n",
        "from imageai.Detection.Custom import CustomObjectDetection\n",
        "\n",
        "detector = CustomObjectDetection()\n",
        "detector.setModelTypeAsYOLOv3()\n",
        "detector.setModelPath('spotGEO/models/') \n",
        "detector.setJsonPath('spotGEO/json/detection_config.json')\n",
        "detector.loadModel()"
      ],
      "execution_count": null,
      "outputs": []
    },
    {
      "cell_type": "code",
      "metadata": {
        "id": "H9xit_nUVp9b",
        "colab_type": "code",
        "colab": {}
      },
      "source": [
        "%%time\n",
        "\n",
        "detections = detector.detectObjectsFromImage(input_image='spotGEO/validation/images/seq_1062_frm_3.jpg', output_image_path='spotGEO/test.jpg', minimum_percentage_probability=30)\n",
        "for detection in detections:\n",
        "    print(detection['name'], ' : ', detection['percentage_probability'], ' : ', detection['box_points'])"
      ],
      "execution_count": null,
      "outputs": []
    },
    {
      "cell_type": "code",
      "metadata": {
        "id": "yglqzTD_sssV",
        "colab_type": "code",
        "colab": {}
      },
      "source": [
        "len(detections)"
      ],
      "execution_count": null,
      "outputs": []
    }
  ]
}